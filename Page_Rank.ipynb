{
 "cells": [
  {
   "cell_type": "code",
   "execution_count": 1,
   "metadata": {},
   "outputs": [],
   "source": [
    "import sys\n",
    "from pyspark import SparkConf, SparkContext\n",
    "import numpy as np\n",
    "import time\n",
    "import re"
   ]
  },
  {
   "cell_type": "code",
   "execution_count": 2,
   "metadata": {},
   "outputs": [],
   "source": [
    "# Create spark context\n",
    "conf = SparkConf()\n",
    "sc = SparkContext(conf=conf)\n"
   ]
  },
  {
   "cell_type": "code",
   "execution_count": 3,
   "metadata": {},
   "outputs": [],
   "source": [
    "lines = sc.textFile('whole.txt')\n",
    "n= 1000"
   ]
  },
  {
   "cell_type": "code",
   "execution_count": 4,
   "metadata": {},
   "outputs": [
    {
     "data": {
      "text/plain": [
       "['1\\t2', '2\\t3', '3\\t4', '4\\t5', '5\\t6']"
      ]
     },
     "execution_count": 4,
     "metadata": {},
     "output_type": "execute_result"
    }
   ],
   "source": [
    "lines.take(5)"
   ]
  },
  {
   "cell_type": "code",
   "execution_count": 5,
   "metadata": {},
   "outputs": [],
   "source": [
    "num_steps = 40\n",
    "beta = 0.8\n",
    "tele_const=(1-beta)/n"
   ]
  },
  {
   "cell_type": "code",
   "execution_count": 6,
   "metadata": {},
   "outputs": [],
   "source": [
    "# Convert lines to pairs\n",
    "lines = lines.distinct()"
   ]
  },
  {
   "cell_type": "code",
   "execution_count": 7,
   "metadata": {},
   "outputs": [
    {
     "data": {
      "text/plain": [
       "['3\\t4', '6\\t7', '7\\t8', '8\\t9', '10\\t11']"
      ]
     },
     "execution_count": 7,
     "metadata": {},
     "output_type": "execute_result"
    }
   ],
   "source": [
    "lines.take(5)"
   ]
  },
  {
   "cell_type": "code",
   "execution_count": 8,
   "metadata": {},
   "outputs": [],
   "source": [
    "pairsRDD = lines.map(lambda x: x.split('\\t'))"
   ]
  },
  {
   "cell_type": "code",
   "execution_count": 9,
   "metadata": {},
   "outputs": [
    {
     "data": {
      "text/plain": [
       "[['3', '4'],\n",
       " ['6', '7'],\n",
       " ['7', '8'],\n",
       " ['8', '9'],\n",
       " ['10', '11'],\n",
       " ['11', '12'],\n",
       " ['18', '19'],\n",
       " ['19', '20'],\n",
       " ['21', '22'],\n",
       " ['27', '28'],\n",
       " ['28', '29'],\n",
       " ['30', '31'],\n",
       " ['35', '36'],\n",
       " ['36', '37'],\n",
       " ['37', '38'],\n",
       " ['39', '40'],\n",
       " ['42', '43'],\n",
       " ['43', '44'],\n",
       " ['45', '46'],\n",
       " ['46', '47'],\n",
       " ['47', '48'],\n",
       " ['53', '54'],\n",
       " ['56', '57'],\n",
       " ['57', '58'],\n",
       " ['59', '60'],\n",
       " ['60', '61'],\n",
       " ['61', '62'],\n",
       " ['65', '66'],\n",
       " ['66', '67'],\n",
       " ['72', '73'],\n",
       " ['74', '75'],\n",
       " ['75', '76'],\n",
       " ['80', '81'],\n",
       " ['84', '85'],\n",
       " ['87', '88'],\n",
       " ['89', '90'],\n",
       " ['90', '91'],\n",
       " ['93', '94'],\n",
       " ['94', '95'],\n",
       " ['95', '96']]"
      ]
     },
     "execution_count": 9,
     "metadata": {},
     "output_type": "execute_result"
    }
   ],
   "source": [
    "pairsRDD.take(40)"
   ]
  },
  {
   "cell_type": "code",
   "execution_count": 10,
   "metadata": {},
   "outputs": [],
   "source": [
    "edgesRDD= pairsRDD.keys()"
   ]
  },
  {
   "cell_type": "code",
   "execution_count": 11,
   "metadata": {
    "scrolled": false
   },
   "outputs": [
    {
     "data": {
      "text/plain": [
       "['3', '6', '7', '8', '10']"
      ]
     },
     "execution_count": 11,
     "metadata": {},
     "output_type": "execute_result"
    }
   ],
   "source": [
    "edgesRDD.take(5)"
   ]
  },
  {
   "cell_type": "code",
   "execution_count": 12,
   "metadata": {},
   "outputs": [],
   "source": [
    "outdegRDD= edgesRDD.map(lambda x: (x,1))"
   ]
  },
  {
   "cell_type": "code",
   "execution_count": 13,
   "metadata": {},
   "outputs": [
    {
     "data": {
      "text/plain": [
       "[('3', 1), ('6', 1), ('7', 1), ('8', 1), ('10', 1)]"
      ]
     },
     "execution_count": 13,
     "metadata": {},
     "output_type": "execute_result"
    }
   ],
   "source": [
    "outdegRDD.take(5)"
   ]
  },
  {
   "cell_type": "code",
   "execution_count": 14,
   "metadata": {},
   "outputs": [],
   "source": [
    "outdeg= outdegRDD.reduceByKey(lambda x,y: x+y)"
   ]
  },
  {
   "cell_type": "code",
   "execution_count": 15,
   "metadata": {},
   "outputs": [
    {
     "data": {
      "text/plain": [
       "[('8', 11), ('10', 5), ('19', 8), ('21', 12), ('45', 8)]"
      ]
     },
     "execution_count": 15,
     "metadata": {},
     "output_type": "execute_result"
    }
   ],
   "source": [
    "outdeg.take(5)"
   ]
  },
  {
   "cell_type": "code",
   "execution_count": 16,
   "metadata": {},
   "outputs": [],
   "source": [
    "joinRDD= outdeg.join(pairsRDD)"
   ]
  },
  {
   "cell_type": "code",
   "execution_count": 17,
   "metadata": {},
   "outputs": [
    {
     "data": {
      "text/plain": [
       "[('10', (5, '11')),\n",
       " ('10', (5, '552')),\n",
       " ('10', (5, '793')),\n",
       " ('10', (5, '287')),\n",
       " ('10', (5, '115'))]"
      ]
     },
     "execution_count": 17,
     "metadata": {},
     "output_type": "execute_result"
    }
   ],
   "source": [
    "joinRDD.take(5)"
   ]
  },
  {
   "cell_type": "code",
   "execution_count": 18,
   "metadata": {},
   "outputs": [],
   "source": [
    "#beta . M\n",
    "tran_matrixRDD = joinRDD.map(lambda x: ((x[1][1],x[0]),beta/x[1][0]))\n"
   ]
  },
  {
   "cell_type": "code",
   "execution_count": 19,
   "metadata": {},
   "outputs": [
    {
     "data": {
      "text/plain": [
       "[(('11', '10'), 0.16),\n",
       " (('552', '10'), 0.16),\n",
       " (('793', '10'), 0.16),\n",
       " (('287', '10'), 0.16),\n",
       " (('115', '10'), 0.16)]"
      ]
     },
     "execution_count": 19,
     "metadata": {},
     "output_type": "execute_result"
    }
   ],
   "source": [
    "tran_matrixRDD.take(5)"
   ]
  },
  {
   "cell_type": "code",
   "execution_count": 20,
   "metadata": {},
   "outputs": [],
   "source": [
    "# pairsRDDRev = pairsRDD.map(lambda x: (x[1],x[0]))"
   ]
  },
  {
   "cell_type": "code",
   "execution_count": 21,
   "metadata": {},
   "outputs": [],
   "source": [
    "r_matrix = sc.parallelize([ [ ((str(i),str(j)),1/n) for j in range(1,n+1)] for i in range(1,n+1)]).flatMap(lambda x:x)"
   ]
  },
  {
   "cell_type": "code",
   "execution_count": 22,
   "metadata": {},
   "outputs": [],
   "source": [
    "mulRDD = tran_matrixRDD.join(r_matrix)"
   ]
  },
  {
   "cell_type": "code",
   "execution_count": 23,
   "metadata": {},
   "outputs": [
    {
     "data": {
      "text/plain": [
       "[(('757', '113'), (0.08888888888888889, 0.001)),\n",
       " (('9', '153'), (0.1142857142857143, 0.001)),\n",
       " (('163', '162'), (0.07272727272727274, 0.001)),\n",
       " (('924', '162'), (0.07272727272727274, 0.001)),\n",
       " (('857', '180'), (0.1, 0.001))]"
      ]
     },
     "execution_count": 23,
     "metadata": {},
     "output_type": "execute_result"
    }
   ],
   "source": [
    "mulRDD.take(5)"
   ]
  },
  {
   "cell_type": "code",
   "execution_count": 24,
   "metadata": {},
   "outputs": [],
   "source": [
    "reduce_mulRDD = mulRDD.map(lambda x: (x[0], x[1][0]*x[1][1]))"
   ]
  },
  {
   "cell_type": "code",
   "execution_count": 25,
   "metadata": {},
   "outputs": [
    {
     "data": {
      "text/plain": [
       "[(('757', '113'), 8.888888888888889e-05),\n",
       " (('9', '153'), 0.0001142857142857143),\n",
       " (('163', '162'), 7.272727272727274e-05),\n",
       " (('924', '162'), 7.272727272727274e-05),\n",
       " (('857', '180'), 0.0001)]"
      ]
     },
     "execution_count": 25,
     "metadata": {},
     "output_type": "execute_result"
    }
   ],
   "source": [
    "reduce_mulRDD.take(5)"
   ]
  },
  {
   "cell_type": "code",
   "execution_count": 26,
   "metadata": {},
   "outputs": [
    {
     "data": {
      "text/plain": [
       "[('757', 8.888888888888889e-05),\n",
       " ('9', 0.0001142857142857143),\n",
       " ('163', 7.272727272727274e-05),\n",
       " ('924', 7.272727272727274e-05),\n",
       " ('857', 0.0001)]"
      ]
     },
     "execution_count": 26,
     "metadata": {},
     "output_type": "execute_result"
    }
   ],
   "source": [
    "reduce_keysRDD = reduce_mulRDD.map( lambda x: (x[0][0],x[1]))\n",
    "reduce_keysRDD.take(5)"
   ]
  },
  {
   "cell_type": "code",
   "execution_count": 27,
   "metadata": {},
   "outputs": [],
   "source": [
    "ranks = reduce_keysRDD.reduceByKey( lambda x,y: x+y)"
   ]
  },
  {
   "cell_type": "code",
   "execution_count": 28,
   "metadata": {},
   "outputs": [
    {
     "data": {
      "text/plain": [
       "[('128', 0.0014834720834720836),\n",
       " ('16', 0.0016822022422022422),\n",
       " ('685', 0.000767012987012987),\n",
       " ('217', 0.0008885714285714287),\n",
       " ('815', 0.0009152958152958153)]"
      ]
     },
     "execution_count": 28,
     "metadata": {},
     "output_type": "execute_result"
    }
   ],
   "source": [
    "ranks = ranks.map(lambda x: (x[0], x[1]+tele_const))\n",
    "ranks.take(5)"
   ]
  },
  {
   "cell_type": "code",
   "execution_count": 29,
   "metadata": {},
   "outputs": [],
   "source": [
    "pg = ranks.collect()"
   ]
  },
  {
   "cell_type": "code",
   "execution_count": 30,
   "metadata": {},
   "outputs": [
    {
     "data": {
      "text/plain": [
       "[('263', 0.0018759018759018761),\n",
       " ('502', 0.0018663492063492064),\n",
       " ('126', 0.001843125763125763),\n",
       " ('285', 0.001819076479076479),\n",
       " ('146', 0.0018094549894549896)]"
      ]
     },
     "execution_count": 30,
     "metadata": {},
     "output_type": "execute_result"
    }
   ],
   "source": [
    "sorted(pg,key = lambda x:x[1],reverse = True)[:5]"
   ]
  },
  {
   "cell_type": "code",
   "execution_count": 31,
   "metadata": {},
   "outputs": [
    {
     "data": {
      "text/plain": [
       "0.9999999999999998"
      ]
     },
     "execution_count": 31,
     "metadata": {},
     "output_type": "execute_result"
    }
   ],
   "source": [
    "sum([i[1] for i in pg] )"
   ]
  },
  {
   "cell_type": "markdown",
   "metadata": {},
   "source": [
    "#Trying out calculation... "
   ]
  },
  {
   "cell_type": "code",
   "execution_count": 32,
   "metadata": {},
   "outputs": [
    {
     "data": {
      "text/plain": [
       "[[((1, 1), 0.2), ((1, 2), 0.2), ((1, 3), 0.2), ((1, 4), 0.2), ((1, 5), 0.2)],\n",
       " [((2, 1), 0.2), ((2, 2), 0.2), ((2, 3), 0.2), ((2, 4), 0.2), ((2, 5), 0.2)],\n",
       " [((3, 1), 0.2), ((3, 2), 0.2), ((3, 3), 0.2), ((3, 4), 0.2), ((3, 5), 0.2)],\n",
       " [((4, 1), 0.2), ((4, 2), 0.2), ((4, 3), 0.2), ((4, 4), 0.2), ((4, 5), 0.2)],\n",
       " [((5, 1), 0.2), ((5, 2), 0.2), ((5, 3), 0.2), ((5, 4), 0.2), ((5, 5), 0.2)]]"
      ]
     },
     "execution_count": 32,
     "metadata": {},
     "output_type": "execute_result"
    }
   ],
   "source": [
    "[ [ ((i,j), 1/5) for j in range(1,5+1)] for i in range(1,5+1) ]"
   ]
  },
  {
   "cell_type": "code",
   "execution_count": 33,
   "metadata": {},
   "outputs": [],
   "source": [
    "pg_dict = {}\n",
    "for p in pg:\n",
    "    pg_dict[int(p[0])] = p[1]"
   ]
  },
  {
   "cell_type": "code",
   "execution_count": 34,
   "metadata": {},
   "outputs": [],
   "source": [
    "#pg_dict[1]"
   ]
  },
  {
   "cell_type": "markdown",
   "metadata": {},
   "source": [
    "Calculating page rank for 40 iteration"
   ]
  },
  {
   "cell_type": "code",
   "execution_count": 35,
   "metadata": {},
   "outputs": [],
   "source": [
    "max_itr = 40\n",
    "for itr in range(max_itr):\n",
    "    \n",
    "    #Arranging rank matrix so as to do Mapping of rank matrix and transition matrix / M matrix )\n",
    "    r_matrix = sc.parallelize([ [ ((str(j),str(i)), pg_dict[i]) for j in range(1,n+1)] for i in range(1,n+1)]).flatMap(lambda x:x)\n",
    "    \n",
    "   \n",
    "    #tran_matrixRDD=beta.M\n",
    "    #corresponding  multiplication (beta.M.r)\n",
    "    mulRDD = tran_matrixRDD.join(r_matrix)\n",
    "    \n",
    "    #corresponding addition and gettung final matrix \n",
    "    reduce_mulRDD = mulRDD.map(lambda x: (x[0], x[1][0]*x[1][1]))\n",
    "    \n",
    "    reduce_keysRDD = reduce_mulRDD.map( lambda x: (x[0][0],x[1]))\n",
    "    ranks = reduce_keysRDD.reduceByKey( lambda x,y: x+y)\n",
    "    \n",
    "    #Final rank(beta.M.r + (1-beta)/N)\n",
    "    ranks = ranks.map(lambda x: (x[0], x[1]+tele_const))\n",
    "    pg = ranks.collect()\n",
    "    for p in pg:\n",
    "        pg_dict[int(p[0])] = p[1]\n",
    "\n"
   ]
  },
  {
   "cell_type": "markdown",
   "metadata": {},
   "source": [
    "Top five page rank scores :"
   ]
  },
  {
   "cell_type": "code",
   "execution_count": 36,
   "metadata": {},
   "outputs": [
    {
     "data": {
      "text/plain": [
       "[('263', 0.002020291181518219),\n",
       " ('537', 0.00194334157145315),\n",
       " ('965', 0.0019254478071662631),\n",
       " ('243', 0.0018526340162417312),\n",
       " ('285', 0.0018273721700645144)]"
      ]
     },
     "execution_count": 36,
     "metadata": {},
     "output_type": "execute_result"
    }
   ],
   "source": [
    "sorted(pg,key = lambda x:x[1],reverse = True)[:5]"
   ]
  },
  {
   "cell_type": "code",
   "execution_count": 37,
   "metadata": {},
   "outputs": [
    {
     "data": {
      "text/plain": [
       "0.9999999999999993"
      ]
     },
     "execution_count": 37,
     "metadata": {},
     "output_type": "execute_result"
    }
   ],
   "source": [
    "sum([i[1] for i in pg] )"
   ]
  },
  {
   "cell_type": "markdown",
   "metadata": {},
   "source": [
    "Bottom five page rank scores"
   ]
  },
  {
   "cell_type": "code",
   "execution_count": 38,
   "metadata": {},
   "outputs": [
    {
     "data": {
      "text/plain": [
       "[('558', 0.0003286018525215297),\n",
       " ('93', 0.00035135689375165774),\n",
       " ('62', 0.00035314810510596274),\n",
       " ('424', 0.0003548153864930145),\n",
       " ('408', 0.00038779848719291705)]"
      ]
     },
     "execution_count": 38,
     "metadata": {},
     "output_type": "execute_result"
    }
   ],
   "source": [
    "sorted(pg,key = lambda x:x[1],reverse = False)[:5]"
   ]
  },
  {
   "cell_type": "code",
   "execution_count": 39,
   "metadata": {},
   "outputs": [
    {
     "data": {
      "text/plain": [
       "0.9999999999999993"
      ]
     },
     "execution_count": 39,
     "metadata": {},
     "output_type": "execute_result"
    }
   ],
   "source": [
    "sum([i[1] for i in pg] )"
   ]
  },
  {
   "cell_type": "code",
   "execution_count": null,
   "metadata": {},
   "outputs": [],
   "source": []
  }
 ],
 "metadata": {
  "kernelspec": {
   "display_name": "Python 3",
   "language": "python",
   "name": "python3"
  },
  "language_info": {
   "codemirror_mode": {
    "name": "ipython",
    "version": 3
   },
   "file_extension": ".py",
   "mimetype": "text/x-python",
   "name": "python",
   "nbconvert_exporter": "python",
   "pygments_lexer": "ipython3",
   "version": "3.7.0"
  }
 },
 "nbformat": 4,
 "nbformat_minor": 2
}
